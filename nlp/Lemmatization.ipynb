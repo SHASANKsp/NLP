{
 "cells": [
  {
   "cell_type": "code",
   "execution_count": 1,
   "metadata": {},
   "outputs": [],
   "source": [
    "import nltk\n",
    "from nltk.stem import WordNetLemmatizer\n",
    "from nltk.corpus import stopwords"
   ]
  },
  {
   "cell_type": "code",
   "execution_count": 2,
   "metadata": {},
   "outputs": [],
   "source": [
    "paragraph = \"\"\"Wikipedia (/ˌwɪkɪˈpiːdiə/ (About this soundlisten), /ˌwɪkiˈpiːdiə/ (About this soundlisten) WIK-ih-PEE-dee-ə)\n",
    "is a multilingual, web-based, free-content encyclopedia project supported by the Wikimedia Foundation and based on a model of \n",
    "openly editable content. The name \"Wikipedia\" is a portmanteau of the words wiki (a technology for creating collaborative\n",
    "websites, from the Hawaiian word wiki, meaning \"quick\") and encyclopedia. Wikipedia's articles provide links designed to \n",
    "guide the user to related pages with additional information.\n",
    "\n",
    "Wikipedia is written collaboratively by largely anonymous volunteers who write without pay. Anyone with \n",
    "Internet access can write and make changes to Wikipedia articles, except in limited cases where editing is\n",
    "restricted to prevent disruption or vandalism. Users can contribute anonymously, under a pseudonym, \n",
    "or, if they choose to, with their real identity. The fundamental principles by which Wikipedia operates are t\n",
    "he five pillars. The Wikipedia community has developed many policies and guidelines to improve the encyclopedia;\n",
    "however, it is not a formal requirement to be familiar with them before contributing.\"\"\""
   ]
  },
  {
   "cell_type": "code",
   "execution_count": 3,
   "metadata": {},
   "outputs": [],
   "source": [
    "sentences = nltk.sent_tokenize(paragraph)\n",
    "lemmatizer = WordNetLemmatizer()"
   ]
  },
  {
   "cell_type": "code",
   "execution_count": 5,
   "metadata": {},
   "outputs": [
    {
     "name": "stderr",
     "output_type": "stream",
     "text": [
      "[nltk_data] Downloading package stopwords to\n",
      "[nltk_data]     C:\\Users\\Dell\\AppData\\Roaming\\nltk_data...\n",
      "[nltk_data]   Unzipping corpora\\stopwords.zip.\n"
     ]
    },
    {
     "data": {
      "text/plain": [
       "True"
      ]
     },
     "execution_count": 5,
     "metadata": {},
     "output_type": "execute_result"
    }
   ],
   "source": [
    "nltk.download('stopwords')"
   ]
  },
  {
   "cell_type": "code",
   "execution_count": 7,
   "metadata": {},
   "outputs": [
    {
     "name": "stderr",
     "output_type": "stream",
     "text": [
      "[nltk_data] Downloading package wordnet to\n",
      "[nltk_data]     C:\\Users\\Dell\\AppData\\Roaming\\nltk_data...\n",
      "[nltk_data]   Unzipping corpora\\wordnet.zip.\n"
     ]
    },
    {
     "data": {
      "text/plain": [
       "True"
      ]
     },
     "execution_count": 7,
     "metadata": {},
     "output_type": "execute_result"
    }
   ],
   "source": [
    "nltk.download('wordnet')"
   ]
  },
  {
   "cell_type": "code",
   "execution_count": 8,
   "metadata": {},
   "outputs": [],
   "source": [
    "for i in range(len(sentences)):\n",
    "    words = nltk.word_tokenize(sentences[i])\n",
    "    words = [lemmatizer.lemmatize(word) for word in words if word not in set(stopwords.words('english'))]\n",
    "    sentences[i] = ' '.join(words)  "
   ]
  },
  {
   "cell_type": "code",
   "execution_count": 9,
   "metadata": {},
   "outputs": [
    {
     "data": {
      "text/plain": [
       "['Wikipedia ( /ˌwɪkɪˈpiːdiə/ ( About soundlisten ) , /ˌwɪkiˈpiːdiə/ ( About soundlisten ) WIK-ih-PEE-dee-ə ) multilingual , web-based , free-content encyclopedia project supported Wikimedia Foundation based model openly editable content .',\n",
       " \"The name `` Wikipedia '' portmanteau word wiki ( technology creating collaborative website , Hawaiian word wiki , meaning `` quick '' ) encyclopedia .\",\n",
       " \"Wikipedia 's article provide link designed guide user related page additional information .\",\n",
       " 'Wikipedia written collaboratively largely anonymous volunteer write without pay .',\n",
       " 'Anyone Internet access write make change Wikipedia article , except limited case editing restricted prevent disruption vandalism .',\n",
       " 'Users contribute anonymously , pseudonym , , choose , real identity .',\n",
       " 'The fundamental principle Wikipedia operates five pillar .',\n",
       " 'The Wikipedia community developed many policy guideline improve encyclopedia ; however , formal requirement familiar contributing .']"
      ]
     },
     "execution_count": 9,
     "metadata": {},
     "output_type": "execute_result"
    }
   ],
   "source": [
    "sentences"
   ]
  }
 ],
 "metadata": {
  "kernelspec": {
   "display_name": "Python 3",
   "language": "python",
   "name": "python3"
  },
  "language_info": {
   "codemirror_mode": {
    "name": "ipython",
    "version": 3
   },
   "file_extension": ".py",
   "mimetype": "text/x-python",
   "name": "python",
   "nbconvert_exporter": "python",
   "pygments_lexer": "ipython3",
   "version": "3.7.1"
  }
 },
 "nbformat": 4,
 "nbformat_minor": 2
}
