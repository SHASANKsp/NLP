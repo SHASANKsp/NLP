{
 "cells": [
  {
   "cell_type": "markdown",
   "id": "a5d29f63",
   "metadata": {
    "papermill": {
     "duration": 0.007617,
     "end_time": "2024-08-05T16:16:34.306753",
     "exception": false,
     "start_time": "2024-08-05T16:16:34.299136",
     "status": "completed"
    },
    "tags": []
   },
   "source": [
    "# Research Paper Recommendation\n",
    "\n",
    "Research papers hold significant importance as they contribute to the advancement of knowledge by presenting new findings and insights. They undergo rigorous peer review to ensure credibility and validity. These papers serve as a foundation for future studies, allowing researchers to build upon existing work and identify research gaps. They enable the dissemination of information, foster collaboration and networking, and serve as references for critical analysis within the scientific community. Research papers play a vital role in academic and professional growth, enhancing visibility and reputation. They lead to innovations, have practical applications, and provide evidence-based information for policy-making and decision-making processes. Through replication and verification, they ensure the reliability of research, and they have the potential to make a global impact by addressing societal challenges and advancing human knowledge.\n",
    "\n",
    "A literature review is a critical and comprehensive analysis of existing research papers on a specific topic. It involves systematically reviewing, summarizing, and evaluating the relevant research studies, articles, books, and other sources to provide a comprehensive overview of the current state of knowledge in a particular field. The purpose of a literature review is to identify the gaps, trends, and patterns in the existing literature, highlight the theoretical frameworks and methodologies employed, and synthesize the findings to develop a solid theoretical foundation for further research. It serves as a crucial component of research papers, guiding researchers in formulating research questions, identifying research gaps, and contributing to the existing body of knowledge.\n",
    "\n",
    "Finding papers for a literature review can be challenging due to the vast amount of available literature, limited access to scholarly resources, language barriers, publication bias, time constraints, and the need to stay up-to-date with the latest research. However, by narrowing down the search, utilizing available resources, exploring diverse sources, managing time effectively, staying informed, and seeking expert guidance, these difficulties can be overcome, enabling a comprehensive and well-informed literature review.\n",
    "\n",
    "## Embeddings\n",
    "\n",
    "Embeddings are numerical representations of data that capture meaningful relationships and similarities between items. In the context of natural language processing (NLP), embeddings such as word embeddings and sentence embeddings encode words or sentences into dense vectors in a continuous vector space. These vectors are learned through unsupervised methods, considering co-occurrence patterns or utilizing sophisticated models like the Universal Sentence Encoder (USE), BERT, or GPT. Embeddings enable algorithms to understand the contextual meaning and relationships within words and sentences. They facilitate efficient comparisons, measuring similarities using metrics like cosine similarity, and exhibit vector arithmetic, capturing semantic relationships. By representing textual data numerically, embeddings enhance the performance of machine learning models in various NLP tasks, allowing for more effective analysis, retrieval, and understanding of textual information.\n",
    "\n",
    "<img src=\"https://miro.medium.com/v2/resize:fit:1400/1*ytRLNPOlDQ7kV6XhwH4baA.png\">\n",
    "\n",
    "## Semantic Similarity\n",
    "\n",
    "Semantic similarity refers to the degree of similarity or relatedness between two pieces of text based on their underlying meaning. It goes beyond surface-level similarities and focuses on capturing the contextual and semantic relationships between words, phrases, or sentences. Semantic similarity can be assessed using various techniques, including natural language processing (NLP) models and similarity metrics such as cosine similarity or Euclidean distance. These methods aim to measure the similarity between textual representations, such as word embeddings or sentence embeddings, by considering the semantic relationships encoded within them. Semantic similarity has applications in several NLP tasks, including information retrieval, question answering, text summarization, and machine translation, where understanding the semantic similarity between text snippets is crucial for accurate and meaningful analysis.\n",
    "\n",
    "<img src=\"https://www.researchgate.net/publication/266477879/figure/fig3/AS:669279997399053@1536580194278/Example-of-semantic-similarity-calculation.png\">\n"
   ]
  },
  {
   "cell_type": "markdown",
   "id": "3493ad04",
   "metadata": {
    "papermill": {
     "duration": 0.006619,
     "end_time": "2024-08-05T16:16:34.320412",
     "exception": false,
     "start_time": "2024-08-05T16:16:34.313793",
     "status": "completed"
    },
    "tags": []
   },
   "source": [
    "<div class=\"alert alert-success\" role=\"alert\">\n",
    "    <h3>In this Project</h3>\n",
    "    <ul>\n",
    "        <li>Extracting Research Papers data from Arxiv dataset</li>\n",
    "        <li>Using <strong>Universal Sentence Encoder</strong> to extract embeddings of Research Abstracts</li>\n",
    "        <li>Training a K Neighbors Classifier to find similar research papers</li>\n",
    "    </ul>\n",
    "</div>"
   ]
  },
  {
   "cell_type": "markdown",
   "id": "a0d75a51",
   "metadata": {
    "papermill": {
     "duration": 0.006463,
     "end_time": "2024-08-05T16:16:34.333669",
     "exception": false,
     "start_time": "2024-08-05T16:16:34.327206",
     "status": "completed"
    },
    "tags": []
   },
   "source": [
    "# Setup"
   ]
  },
  {
   "cell_type": "code",
   "execution_count": 1,
   "id": "1a833d39",
   "metadata": {
    "_cell_guid": "b1076dfc-b9ad-4769-8c92-a6c4dae69d19",
    "_uuid": "8f2839f25d086af736a60e9eeb907d3b93b6e0e5",
    "execution": {
     "iopub.execute_input": "2024-08-05T16:16:34.348893Z",
     "iopub.status.busy": "2024-08-05T16:16:34.348490Z",
     "iopub.status.idle": "2024-08-05T16:16:44.809329Z",
     "shell.execute_reply": "2024-08-05T16:16:44.808217Z"
    },
    "papermill": {
     "duration": 10.471635,
     "end_time": "2024-08-05T16:16:44.812073",
     "exception": false,
     "start_time": "2024-08-05T16:16:34.340438",
     "status": "completed"
    },
    "tags": []
   },
   "outputs": [],
   "source": [
    "import warnings\n",
    "warnings.filterwarnings('ignore')\n",
    "\n",
    "import os\n",
    "import json\n",
    "import random\n",
    "import pandas as pd\n",
    "import numpy as np\n",
    "import matplotlib.pyplot as plt\n",
    "import seaborn as sns\n",
    "\n",
    "import tensorflow as tf\n",
    "import tensorflow_hub as hub\n",
    "from tensorflow.keras.losses import cosine_similarity\n",
    "from sklearn.decomposition import PCA\n",
    "from sklearn.neighbors import KNeighborsClassifier\n",
    "\n",
    "plt.rcParams['figure.figsize'] = (8,5)\n",
    "plt.rcParams['font.size'] = 14"
   ]
  },
  {
   "cell_type": "markdown",
   "id": "4d2effb8",
   "metadata": {
    "papermill": {
     "duration": 0.006653,
     "end_time": "2024-08-05T16:16:44.825799",
     "exception": false,
     "start_time": "2024-08-05T16:16:44.819146",
     "status": "completed"
    },
    "tags": []
   },
   "source": [
    "# Loading Data"
   ]
  },
  {
   "cell_type": "code",
   "execution_count": 2,
   "id": "230218f3",
   "metadata": {
    "execution": {
     "iopub.execute_input": "2024-08-05T16:16:44.841738Z",
     "iopub.status.busy": "2024-08-05T16:16:44.840990Z",
     "iopub.status.idle": "2024-08-05T16:16:44.846842Z",
     "shell.execute_reply": "2024-08-05T16:16:44.845676Z"
    },
    "papermill": {
     "duration": 0.016503,
     "end_time": "2024-08-05T16:16:44.849111",
     "exception": false,
     "start_time": "2024-08-05T16:16:44.832608",
     "status": "completed"
    },
    "tags": []
   },
   "outputs": [],
   "source": [
    "FILE = '/kaggle/input/arxiv/arxiv-metadata-oai-snapshot.json'\n",
    "\n",
    "def get_data():\n",
    "    with open(FILE) as f:\n",
    "        for line in f:\n",
    "            yield line"
   ]
  },
  {
   "cell_type": "code",
   "execution_count": 3,
   "id": "3dd87685",
   "metadata": {
    "execution": {
     "iopub.execute_input": "2024-08-05T16:16:44.864634Z",
     "iopub.status.busy": "2024-08-05T16:16:44.864251Z",
     "iopub.status.idle": "2024-08-05T16:18:12.579822Z",
     "shell.execute_reply": "2024-08-05T16:18:12.578764Z"
    },
    "papermill": {
     "duration": 87.726546,
     "end_time": "2024-08-05T16:18:12.582502",
     "exception": false,
     "start_time": "2024-08-05T16:16:44.855956",
     "status": "completed"
    },
    "tags": []
   },
   "outputs": [],
   "source": [
    "dataframe = {\n",
    "    'title': [],\n",
    "    'year': [],\n",
    "    'abstract': []\n",
    "}\n",
    "\n",
    "data = get_data()\n",
    "for i, paper in enumerate(data):\n",
    "    paper = json.loads(paper)\n",
    "    try:\n",
    "        date = int(paper['update_date'].split('-')[0])\n",
    "        if date > 2019:\n",
    "            dataframe['title'].append(paper['title'])\n",
    "            dataframe['year'].append(date)\n",
    "            dataframe['abstract'].append(paper['abstract'])\n",
    "    except: pass"
   ]
  },
  {
   "cell_type": "code",
   "execution_count": 4,
   "id": "9104bc3b",
   "metadata": {
    "execution": {
     "iopub.execute_input": "2024-08-05T16:18:12.597970Z",
     "iopub.status.busy": "2024-08-05T16:18:12.597531Z",
     "iopub.status.idle": "2024-08-05T16:18:13.362595Z",
     "shell.execute_reply": "2024-08-05T16:18:13.361468Z"
    },
    "papermill": {
     "duration": 0.775449,
     "end_time": "2024-08-05T16:18:13.365041",
     "exception": false,
     "start_time": "2024-08-05T16:18:12.589592",
     "status": "completed"
    },
    "tags": []
   },
   "outputs": [
    {
     "data": {
      "text/html": [
       "<div>\n",
       "<style scoped>\n",
       "    .dataframe tbody tr th:only-of-type {\n",
       "        vertical-align: middle;\n",
       "    }\n",
       "\n",
       "    .dataframe tbody tr th {\n",
       "        vertical-align: top;\n",
       "    }\n",
       "\n",
       "    .dataframe thead th {\n",
       "        text-align: right;\n",
       "    }\n",
       "</style>\n",
       "<table border=\"1\" class=\"dataframe\">\n",
       "  <thead>\n",
       "    <tr style=\"text-align: right;\">\n",
       "      <th></th>\n",
       "      <th>title</th>\n",
       "      <th>year</th>\n",
       "      <th>abstract</th>\n",
       "    </tr>\n",
       "  </thead>\n",
       "  <tbody>\n",
       "    <tr>\n",
       "      <th>0</th>\n",
       "      <td>Convergence of the discrete dipole approximati...</td>\n",
       "      <td>2022</td>\n",
       "      <td>We performed a rigorous theoretical converge...</td>\n",
       "    </tr>\n",
       "    <tr>\n",
       "      <th>1</th>\n",
       "      <td>The discrete dipole approximation: an overview...</td>\n",
       "      <td>2022</td>\n",
       "      <td>We present a review of the discrete dipole a...</td>\n",
       "    </tr>\n",
       "    <tr>\n",
       "      <th>2</th>\n",
       "      <td>Mapping radii of metric spaces</td>\n",
       "      <td>2021</td>\n",
       "      <td>It is known that every closed curve of lengt...</td>\n",
       "    </tr>\n",
       "    <tr>\n",
       "      <th>3</th>\n",
       "      <td>What can emission lines tell us?</td>\n",
       "      <td>2023</td>\n",
       "      <td>1 Generalities\\n  2 Empirical diagnostics ba...</td>\n",
       "    </tr>\n",
       "    <tr>\n",
       "      <th>4</th>\n",
       "      <td>The affine part of the Picard scheme</td>\n",
       "      <td>2021</td>\n",
       "      <td>We describe the maximal torus and maximal un...</td>\n",
       "    </tr>\n",
       "    <tr>\n",
       "      <th>5</th>\n",
       "      <td>The Veldkamp Space of Two-Qubits</td>\n",
       "      <td>2024</td>\n",
       "      <td>Given a remarkable representation of the gen...</td>\n",
       "    </tr>\n",
       "    <tr>\n",
       "      <th>6</th>\n",
       "      <td>Manifolds admitting a $\\tilde G_2$-structure</td>\n",
       "      <td>2023</td>\n",
       "      <td>We find a necessary and sufficient condition...</td>\n",
       "    </tr>\n",
       "    <tr>\n",
       "      <th>7</th>\n",
       "      <td>Actions for the Bosonic String with the Curved...</td>\n",
       "      <td>2020</td>\n",
       "      <td>At first we introduce an action for the stri...</td>\n",
       "    </tr>\n",
       "    <tr>\n",
       "      <th>8</th>\n",
       "      <td>Stochastic action principle and maximum entropy</td>\n",
       "      <td>2020</td>\n",
       "      <td>A stochastic action principle for stochastic...</td>\n",
       "    </tr>\n",
       "    <tr>\n",
       "      <th>9</th>\n",
       "      <td>Axiom A polynomial skew products of C^2 and th...</td>\n",
       "      <td>2023</td>\n",
       "      <td>A polynomial skew product of C^2 is a map of...</td>\n",
       "    </tr>\n",
       "  </tbody>\n",
       "</table>\n",
       "</div>"
      ],
      "text/plain": [
       "                                               title  year  \\\n",
       "0  Convergence of the discrete dipole approximati...  2022   \n",
       "1  The discrete dipole approximation: an overview...  2022   \n",
       "2                     Mapping radii of metric spaces  2021   \n",
       "3                   What can emission lines tell us?  2023   \n",
       "4               The affine part of the Picard scheme  2021   \n",
       "5                   The Veldkamp Space of Two-Qubits  2024   \n",
       "6       Manifolds admitting a $\\tilde G_2$-structure  2023   \n",
       "7  Actions for the Bosonic String with the Curved...  2020   \n",
       "8    Stochastic action principle and maximum entropy  2020   \n",
       "9  Axiom A polynomial skew products of C^2 and th...  2023   \n",
       "\n",
       "                                            abstract  \n",
       "0    We performed a rigorous theoretical converge...  \n",
       "1    We present a review of the discrete dipole a...  \n",
       "2    It is known that every closed curve of lengt...  \n",
       "3    1 Generalities\\n  2 Empirical diagnostics ba...  \n",
       "4    We describe the maximal torus and maximal un...  \n",
       "5    Given a remarkable representation of the gen...  \n",
       "6    We find a necessary and sufficient condition...  \n",
       "7    At first we introduce an action for the stri...  \n",
       "8    A stochastic action principle for stochastic...  \n",
       "9    A polynomial skew product of C^2 is a map of...  "
      ]
     },
     "execution_count": 4,
     "metadata": {},
     "output_type": "execute_result"
    }
   ],
   "source": [
    "df = pd.DataFrame(dataframe)\n",
    "df.head(10)"
   ]
  },
  {
   "cell_type": "code",
   "execution_count": 5,
   "id": "dbda5887",
   "metadata": {
    "execution": {
     "iopub.execute_input": "2024-08-05T16:18:13.380891Z",
     "iopub.status.busy": "2024-08-05T16:18:13.380494Z",
     "iopub.status.idle": "2024-08-05T16:18:13.427905Z",
     "shell.execute_reply": "2024-08-05T16:18:13.426715Z"
    },
    "papermill": {
     "duration": 0.057968,
     "end_time": "2024-08-05T16:18:13.430159",
     "exception": false,
     "start_time": "2024-08-05T16:18:13.372191",
     "status": "completed"
    },
    "tags": []
   },
   "outputs": [],
   "source": [
    "del dataframe"
   ]
  },
  {
   "cell_type": "markdown",
   "id": "4f760431",
   "metadata": {
    "papermill": {
     "duration": 0.006732,
     "end_time": "2024-08-05T16:18:13.444035",
     "exception": false,
     "start_time": "2024-08-05T16:18:13.437303",
     "status": "completed"
    },
    "tags": []
   },
   "source": [
    "### Shape of Data"
   ]
  },
  {
   "cell_type": "code",
   "execution_count": 6,
   "id": "91dcaf54",
   "metadata": {
    "execution": {
     "iopub.execute_input": "2024-08-05T16:18:13.459465Z",
     "iopub.status.busy": "2024-08-05T16:18:13.459082Z",
     "iopub.status.idle": "2024-08-05T16:18:13.464685Z",
     "shell.execute_reply": "2024-08-05T16:18:13.463649Z"
    },
    "papermill": {
     "duration": 0.015901,
     "end_time": "2024-08-05T16:18:13.466865",
     "exception": false,
     "start_time": "2024-08-05T16:18:13.450964",
     "status": "completed"
    },
    "tags": []
   },
   "outputs": [
    {
     "name": "stdout",
     "output_type": "stream",
     "text": [
      "Samples: 996237\n",
      "Features: 3\n"
     ]
    }
   ],
   "source": [
    "print(f\"Samples: {df.shape[0]}\\nFeatures: {df.shape[1]}\")"
   ]
  },
  {
   "cell_type": "markdown",
   "id": "aa14f673",
   "metadata": {
    "papermill": {
     "duration": 0.006718,
     "end_time": "2024-08-05T16:18:13.481040",
     "exception": false,
     "start_time": "2024-08-05T16:18:13.474322",
     "status": "completed"
    },
    "tags": []
   },
   "source": [
    "### Missing Values"
   ]
  },
  {
   "cell_type": "code",
   "execution_count": 7,
   "id": "fc29e970",
   "metadata": {
    "execution": {
     "iopub.execute_input": "2024-08-05T16:18:13.496887Z",
     "iopub.status.busy": "2024-08-05T16:18:13.496418Z",
     "iopub.status.idle": "2024-08-05T16:18:13.904177Z",
     "shell.execute_reply": "2024-08-05T16:18:13.903085Z"
    },
    "papermill": {
     "duration": 0.418831,
     "end_time": "2024-08-05T16:18:13.906801",
     "exception": false,
     "start_time": "2024-08-05T16:18:13.487970",
     "status": "completed"
    },
    "tags": []
   },
   "outputs": [
    {
     "data": {
      "text/plain": [
       "False"
      ]
     },
     "execution_count": 7,
     "metadata": {},
     "output_type": "execute_result"
    }
   ],
   "source": [
    "any(df.isna().sum())"
   ]
  },
  {
   "cell_type": "code",
   "execution_count": 8,
   "id": "88417936",
   "metadata": {
    "execution": {
     "iopub.execute_input": "2024-08-05T16:18:13.923060Z",
     "iopub.status.busy": "2024-08-05T16:18:13.922664Z",
     "iopub.status.idle": "2024-08-05T16:18:14.354360Z",
     "shell.execute_reply": "2024-08-05T16:18:14.353268Z"
    },
    "papermill": {
     "duration": 0.442676,
     "end_time": "2024-08-05T16:18:14.356820",
     "exception": false,
     "start_time": "2024-08-05T16:18:13.914144",
     "status": "completed"
    },
    "tags": []
   },
   "outputs": [
    {
     "name": "stdout",
     "output_type": "stream",
     "text": [
      "<class 'pandas.core.frame.DataFrame'>\n",
      "RangeIndex: 996237 entries, 0 to 996236\n",
      "Data columns (total 3 columns):\n",
      " #   Column    Non-Null Count   Dtype \n",
      "---  ------    --------------   ----- \n",
      " 0   title     996237 non-null  object\n",
      " 1   year      996237 non-null  int64 \n",
      " 2   abstract  996237 non-null  object\n",
      "dtypes: int64(1), object(2)\n",
      "memory usage: 22.8+ MB\n"
     ]
    }
   ],
   "source": [
    "df.info()"
   ]
  },
  {
   "cell_type": "markdown",
   "id": "fd547d1f",
   "metadata": {
    "papermill": {
     "duration": 0.007151,
     "end_time": "2024-08-05T16:18:14.371989",
     "exception": false,
     "start_time": "2024-08-05T16:18:14.364838",
     "status": "completed"
    },
    "tags": []
   },
   "source": [
    "# Exploratory Data Analysis"
   ]
  },
  {
   "cell_type": "code",
   "execution_count": 9,
   "id": "988a08a4",
   "metadata": {
    "execution": {
     "iopub.execute_input": "2024-08-05T16:18:14.388291Z",
     "iopub.status.busy": "2024-08-05T16:18:14.387882Z",
     "iopub.status.idle": "2024-08-05T16:18:14.701612Z",
     "shell.execute_reply": "2024-08-05T16:18:14.700483Z"
    },
    "papermill": {
     "duration": 0.325281,
     "end_time": "2024-08-05T16:18:14.704476",
     "exception": false,
     "start_time": "2024-08-05T16:18:14.379195",
     "status": "completed"
    },
    "tags": []
   },
   "outputs": [
    {
     "data": {
      "image/png": "[encoded data removed]",
      "text/plain": [
       "<Figure size 800x500 with 1 Axes>"
      ]
     },
     "metadata": {},
     "output_type": "display_data"
    }
   ],
   "source": [
    "sns.countplot(data=df, x='year')\n",
    "plt.title(\"Papers Released across Years\")\n",
    "plt.show()"
   ]
  },
  {
   "cell_type": "markdown",
   "id": "594ef02a",
   "metadata": {
    "papermill": {
     "duration": 0.0074,
     "end_time": "2024-08-05T16:18:14.720032",
     "exception": false,
     "start_time": "2024-08-05T16:18:14.712632",
     "status": "completed"
    },
    "tags": []
   },
   "source": [
    "### Abstract Length"
   ]
  },
  {
   "cell_type": "code",
   "execution_count": 10,
   "id": "e52619aa",
   "metadata": {
    "_kg_hide-output": true,
    "execution": {
     "iopub.execute_input": "2024-08-05T16:18:14.737400Z",
     "iopub.status.busy": "2024-08-05T16:18:14.736965Z",
     "iopub.status.idle": "2024-08-05T16:18:15.340082Z",
     "shell.execute_reply": "2024-08-05T16:18:15.339058Z"
    },
    "papermill": {
     "duration": 0.614718,
     "end_time": "2024-08-05T16:18:15.342604",
     "exception": false,
     "start_time": "2024-08-05T16:18:14.727886",
     "status": "completed"
    },
    "tags": []
   },
   "outputs": [
    {
     "data": {
      "text/html": [
       "<div>\n",
       "<style scoped>\n",
       "    .dataframe tbody tr th:only-of-type {\n",
       "        vertical-align: middle;\n",
       "    }\n",
       "\n",
       "    .dataframe tbody tr th {\n",
       "        vertical-align: top;\n",
       "    }\n",
       "\n",
       "    .dataframe thead th {\n",
       "        text-align: right;\n",
       "    }\n",
       "</style>\n",
       "<table border=\"1\" class=\"dataframe\">\n",
       "  <thead>\n",
       "    <tr style=\"text-align: right;\">\n",
       "      <th></th>\n",
       "      <th>title</th>\n",
       "      <th>year</th>\n",
       "      <th>abstract</th>\n",
       "      <th>length</th>\n",
       "    </tr>\n",
       "  </thead>\n",
       "  <tbody>\n",
       "    <tr>\n",
       "      <th>0</th>\n",
       "      <td>Convergence of the discrete dipole approximati...</td>\n",
       "      <td>2022</td>\n",
       "      <td>We performed a rigorous theoretical converge...</td>\n",
       "      <td>832</td>\n",
       "    </tr>\n",
       "    <tr>\n",
       "      <th>1</th>\n",
       "      <td>The discrete dipole approximation: an overview...</td>\n",
       "      <td>2022</td>\n",
       "      <td>We present a review of the discrete dipole a...</td>\n",
       "      <td>617</td>\n",
       "    </tr>\n",
       "    <tr>\n",
       "      <th>2</th>\n",
       "      <td>Mapping radii of metric spaces</td>\n",
       "      <td>2021</td>\n",
       "      <td>It is known that every closed curve of lengt...</td>\n",
       "      <td>737</td>\n",
       "    </tr>\n",
       "    <tr>\n",
       "      <th>3</th>\n",
       "      <td>What can emission lines tell us?</td>\n",
       "      <td>2023</td>\n",
       "      <td>1 Generalities\\n  2 Empirical diagnostics ba...</td>\n",
       "      <td>181</td>\n",
       "    </tr>\n",
       "    <tr>\n",
       "      <th>4</th>\n",
       "      <td>The affine part of the Picard scheme</td>\n",
       "      <td>2021</td>\n",
       "      <td>We describe the maximal torus and maximal un...</td>\n",
       "      <td>126</td>\n",
       "    </tr>\n",
       "    <tr>\n",
       "      <th>5</th>\n",
       "      <td>The Veldkamp Space of Two-Qubits</td>\n",
       "      <td>2024</td>\n",
       "      <td>Given a remarkable representation of the gen...</td>\n",
       "      <td>582</td>\n",
       "    </tr>\n",
       "    <tr>\n",
       "      <th>6</th>\n",
       "      <td>Manifolds admitting a $\\tilde G_2$-structure</td>\n",
       "      <td>2023</td>\n",
       "      <td>We find a necessary and sufficient condition...</td>\n",
       "      <td>220</td>\n",
       "    </tr>\n",
       "    <tr>\n",
       "      <th>7</th>\n",
       "      <td>Actions for the Bosonic String with the Curved...</td>\n",
       "      <td>2020</td>\n",
       "      <td>At first we introduce an action for the stri...</td>\n",
       "      <td>414</td>\n",
       "    </tr>\n",
       "    <tr>\n",
       "      <th>8</th>\n",
       "      <td>Stochastic action principle and maximum entropy</td>\n",
       "      <td>2020</td>\n",
       "      <td>A stochastic action principle for stochastic...</td>\n",
       "      <td>770</td>\n",
       "    </tr>\n",
       "    <tr>\n",
       "      <th>9</th>\n",
       "      <td>Axiom A polynomial skew products of C^2 and th...</td>\n",
       "      <td>2023</td>\n",
       "      <td>A polynomial skew product of C^2 is a map of...</td>\n",
       "      <td>784</td>\n",
       "    </tr>\n",
       "  </tbody>\n",
       "</table>\n",
       "</div>"
      ],
      "text/plain": [
       "                                               title  year  \\\n",
       "0  Convergence of the discrete dipole approximati...  2022   \n",
       "1  The discrete dipole approximation: an overview...  2022   \n",
       "2                     Mapping radii of metric spaces  2021   \n",
       "3                   What can emission lines tell us?  2023   \n",
       "4               The affine part of the Picard scheme  2021   \n",
       "5                   The Veldkamp Space of Two-Qubits  2024   \n",
       "6       Manifolds admitting a $\\tilde G_2$-structure  2023   \n",
       "7  Actions for the Bosonic String with the Curved...  2020   \n",
       "8    Stochastic action principle and maximum entropy  2020   \n",
       "9  Axiom A polynomial skew products of C^2 and th...  2023   \n",
       "\n",
       "                                            abstract  length  \n",
       "0    We performed a rigorous theoretical converge...     832  \n",
       "1    We present a review of the discrete dipole a...     617  \n",
       "2    It is known that every closed curve of lengt...     737  \n",
       "3    1 Generalities\\n  2 Empirical diagnostics ba...     181  \n",
       "4    We describe the maximal torus and maximal un...     126  \n",
       "5    Given a remarkable representation of the gen...     582  \n",
       "6    We find a necessary and sufficient condition...     220  \n",
       "7    At first we introduce an action for the stri...     414  \n",
       "8    A stochastic action principle for stochastic...     770  \n",
       "9    A polynomial skew product of C^2 is a map of...     784  "
      ]
     },
     "execution_count": 10,
     "metadata": {},
     "output_type": "execute_result"
    }
   ],
   "source": [
    "df['length'] = df['abstract'].str.len()\n",
    "df.head(10)"
   ]
  },
  {
   "cell_type": "code",
   "execution_count": 11,
   "id": "52eb42d2",
   "metadata": {
    "execution": {
     "iopub.execute_input": "2024-08-05T16:18:15.360495Z",
     "iopub.status.busy": "2024-08-05T16:18:15.360099Z",
     "iopub.status.idle": "2024-08-05T16:18:15.595208Z",
     "shell.execute_reply": "2024-08-05T16:18:15.593984Z"
    },
    "papermill": {
     "duration": 0.247285,
     "end_time": "2024-08-05T16:18:15.597954",
     "exception": false,
     "start_time": "2024-08-05T16:18:15.350669",
     "status": "completed"
    },
    "tags": []
   },
   "outputs": [
    {
     "data": {
      "image/png": "[encoded data removed]",
      "text/plain": [
       "<Figure size 800x500 with 1 Axes>"
      ]
     },
     "metadata": {},
     "output_type": "display_data"
    }
   ],
   "source": [
    "sns.boxplot(data=df, y='length')\n",
    "plt.title(\"Length of Abstracts\")\n",
    "plt.show()"
   ]
  },
  {
   "cell_type": "markdown",
   "id": "db29dc8d",
   "metadata": {
    "papermill": {
     "duration": 0.008568,
     "end_time": "2024-08-05T16:18:15.615806",
     "exception": false,
     "start_time": "2024-08-05T16:18:15.607238",
     "status": "completed"
    },
    "tags": []
   },
   "source": [
    "### Word Count"
   ]
  },
  {
   "cell_type": "code",
   "execution_count": 12,
   "id": "27de07ec",
   "metadata": {
    "_kg_hide-output": true,
    "execution": {
     "iopub.execute_input": "2024-08-05T16:18:15.635450Z",
     "iopub.status.busy": "2024-08-05T16:18:15.634394Z",
     "iopub.status.idle": "2024-08-05T16:18:26.023452Z",
     "shell.execute_reply": "2024-08-05T16:18:26.022327Z"
    },
    "papermill": {
     "duration": 10.401984,
     "end_time": "2024-08-05T16:18:26.026318",
     "exception": false,
     "start_time": "2024-08-05T16:18:15.624334",
     "status": "completed"
    },
    "tags": []
   },
   "outputs": [
    {
     "data": {
      "text/html": [
       "<div>\n",
       "<style scoped>\n",
       "    .dataframe tbody tr th:only-of-type {\n",
       "        vertical-align: middle;\n",
       "    }\n",
       "\n",
       "    .dataframe tbody tr th {\n",
       "        vertical-align: top;\n",
       "    }\n",
       "\n",
       "    .dataframe thead th {\n",
       "        text-align: right;\n",
       "    }\n",
       "</style>\n",
       "<table border=\"1\" class=\"dataframe\">\n",
       "  <thead>\n",
       "    <tr style=\"text-align: right;\">\n",
       "      <th></th>\n",
       "      <th>title</th>\n",
       "      <th>year</th>\n",
       "      <th>abstract</th>\n",
       "      <th>length</th>\n",
       "      <th>word_count</th>\n",
       "    </tr>\n",
       "  </thead>\n",
       "  <tbody>\n",
       "    <tr>\n",
       "      <th>0</th>\n",
       "      <td>Convergence of the discrete dipole approximati...</td>\n",
       "      <td>2022</td>\n",
       "      <td>We performed a rigorous theoretical converge...</td>\n",
       "      <td>832</td>\n",
       "      <td>133</td>\n",
       "    </tr>\n",
       "    <tr>\n",
       "      <th>1</th>\n",
       "      <td>The discrete dipole approximation: an overview...</td>\n",
       "      <td>2022</td>\n",
       "      <td>We present a review of the discrete dipole a...</td>\n",
       "      <td>617</td>\n",
       "      <td>96</td>\n",
       "    </tr>\n",
       "    <tr>\n",
       "      <th>2</th>\n",
       "      <td>Mapping radii of metric spaces</td>\n",
       "      <td>2021</td>\n",
       "      <td>It is known that every closed curve of lengt...</td>\n",
       "      <td>737</td>\n",
       "      <td>138</td>\n",
       "    </tr>\n",
       "    <tr>\n",
       "      <th>3</th>\n",
       "      <td>What can emission lines tell us?</td>\n",
       "      <td>2023</td>\n",
       "      <td>1 Generalities\\n  2 Empirical diagnostics ba...</td>\n",
       "      <td>181</td>\n",
       "      <td>27</td>\n",
       "    </tr>\n",
       "    <tr>\n",
       "      <th>4</th>\n",
       "      <td>The affine part of the Picard scheme</td>\n",
       "      <td>2021</td>\n",
       "      <td>We describe the maximal torus and maximal un...</td>\n",
       "      <td>126</td>\n",
       "      <td>21</td>\n",
       "    </tr>\n",
       "  </tbody>\n",
       "</table>\n",
       "</div>"
      ],
      "text/plain": [
       "                                               title  year  \\\n",
       "0  Convergence of the discrete dipole approximati...  2022   \n",
       "1  The discrete dipole approximation: an overview...  2022   \n",
       "2                     Mapping radii of metric spaces  2021   \n",
       "3                   What can emission lines tell us?  2023   \n",
       "4               The affine part of the Picard scheme  2021   \n",
       "\n",
       "                                            abstract  length  word_count  \n",
       "0    We performed a rigorous theoretical converge...     832         133  \n",
       "1    We present a review of the discrete dipole a...     617          96  \n",
       "2    It is known that every closed curve of lengt...     737         138  \n",
       "3    1 Generalities\\n  2 Empirical diagnostics ba...     181          27  \n",
       "4    We describe the maximal torus and maximal un...     126          21  "
      ]
     },
     "execution_count": 12,
     "metadata": {},
     "output_type": "execute_result"
    }
   ],
   "source": [
    "def word_count(x):\n",
    "    return len(x.split())\n",
    "\n",
    "df['word_count'] = df['abstract'].apply(word_count)\n",
    "df.head()"
   ]
  },
  {
   "cell_type": "code",
   "execution_count": 13,
   "id": "fc66b7fa",
   "metadata": {
    "execution": {
     "iopub.execute_input": "2024-08-05T16:18:26.045862Z",
     "iopub.status.busy": "2024-08-05T16:18:26.045432Z",
     "iopub.status.idle": "2024-08-05T16:18:26.288877Z",
     "shell.execute_reply": "2024-08-05T16:18:26.287752Z"
    },
    "papermill": {
     "duration": 0.255981,
     "end_time": "2024-08-05T16:18:26.291202",
     "exception": false,
     "start_time": "2024-08-05T16:18:26.035221",
     "status": "completed"
    },
    "tags": []
   },
   "outputs": [
    {
     "data": {
      "image/png": "[encoded data removed]",
      "text/plain": [
       "<Figure size 800x500 with 1 Axes>"
      ]
     },
     "metadata": {},
     "output_type": "display_data"
    }
   ],
   "source": [
    "sns.boxplot(data=df, y='word_count')\n",
    "plt.title(\"Word Count in Abstracts\")\n",
    "plt.show()"
   ]
  },
  {
   "cell_type": "code",
   "execution_count": 14,
   "id": "f2e19b4a",
   "metadata": {
    "execution": {
     "iopub.execute_input": "2024-08-05T16:18:26.311299Z",
     "iopub.status.busy": "2024-08-05T16:18:26.310894Z",
     "iopub.status.idle": "2024-08-05T16:18:26.336920Z",
     "shell.execute_reply": "2024-08-05T16:18:26.335623Z"
    },
    "papermill": {
     "duration": 0.039476,
     "end_time": "2024-08-05T16:18:26.339611",
     "exception": false,
     "start_time": "2024-08-05T16:18:26.300135",
     "status": "completed"
    },
    "tags": []
   },
   "outputs": [
    {
     "name": "stdout",
     "output_type": "stream",
     "text": [
      "Mean of Word Count: 157.61\n",
      "Median of Word Count: 156.0\n"
     ]
    }
   ],
   "source": [
    "print(f\"Mean of Word Count: {df['word_count'].mean():.2f}\\nMedian of Word Count: {df['word_count'].median()}\")"
   ]
  },
  {
   "cell_type": "markdown",
   "id": "8e96e31f",
   "metadata": {
    "papermill": {
     "duration": 0.008774,
     "end_time": "2024-08-05T16:18:26.357438",
     "exception": false,
     "start_time": "2024-08-05T16:18:26.348664",
     "status": "completed"
    },
    "tags": []
   },
   "source": [
    "# Universal Sentence Encoder \n",
    "\n",
    "The Universal Sentence Encoder (USE) is a pre-trained deep learning model in the field of natural language processing (NLP) that encodes sentences or text snippets into fixed-length numerical representations. It leverages a combination of recurrent and transformer neural networks to capture both the meaning and context of sentences. The USE is trained on a large corpus of text and can generate high-quality sentence embeddings that capture semantic information and similarities between sentences. These embeddings enable efficient computation of semantic similarity or relatedness between different sentences, facilitating tasks such as text classification, sentiment analysis, information retrieval, and text generation. The Universal Sentence Encoder has gained popularity due to its ability to provide versatile and effective representations of sentences, making it a valuable tool for a wide range of NLP applications.\n",
    "\n",
    "\n",
    "\n",
    "<img src=\"https://amitness.com/images/use-overall-pipeline.png\">"
   ]
  },
  {
   "cell_type": "code",
   "execution_count": 15,
   "id": "eb0fd03e",
   "metadata": {
    "execution": {
     "iopub.execute_input": "2024-08-05T16:18:26.377091Z",
     "iopub.status.busy": "2024-08-05T16:18:26.376693Z",
     "iopub.status.idle": "2024-08-05T16:19:07.692301Z",
     "shell.execute_reply": "2024-08-05T16:19:07.691097Z"
    },
    "papermill": {
     "duration": 41.328709,
     "end_time": "2024-08-05T16:19:07.695208",
     "exception": false,
     "start_time": "2024-08-05T16:18:26.366499",
     "status": "completed"
    },
    "tags": []
   },
   "outputs": [],
   "source": [
    "# Tensorflow Hub URL for Universal Sentence Encoder\n",
    "MODEL_URL = \"https://tfhub.dev/google/universal-sentence-encoder/4\"\n",
    "\n",
    "# KerasLayer\n",
    "sentence_encoder_layer = hub.KerasLayer(MODEL_URL,\n",
    "                                        input_shape=[],\n",
    "                                        dtype=tf.string,\n",
    "                                        trainable=False,\n",
    "                                        name=\"use\")\n",
    "\n",
    "abstracts = df[\"abstract\"].to_list()"
   ]
  },
  {
   "cell_type": "code",
   "execution_count": 16,
   "id": "c3ae723f",
   "metadata": {
    "execution": {
     "iopub.execute_input": "2024-08-05T16:19:07.715482Z",
     "iopub.status.busy": "2024-08-05T16:19:07.715123Z",
     "iopub.status.idle": "2024-08-05T16:19:07.720191Z",
     "shell.execute_reply": "2024-08-05T16:19:07.719160Z"
    },
    "papermill": {
     "duration": 0.017803,
     "end_time": "2024-08-05T16:19:07.722369",
     "exception": false,
     "start_time": "2024-08-05T16:19:07.704566",
     "status": "completed"
    },
    "tags": []
   },
   "outputs": [],
   "source": [
    "# Setup for embeddings computation\n",
    "embeddings = []\n",
    "batch_size = 3000\n",
    "num_batches = len(abstracts) // batch_size"
   ]
  },
  {
   "cell_type": "code",
   "execution_count": 17,
   "id": "7f240e4d",
   "metadata": {
    "execution": {
     "iopub.execute_input": "2024-08-05T16:19:07.743027Z",
     "iopub.status.busy": "2024-08-05T16:19:07.741909Z",
     "iopub.status.idle": "2024-08-05T16:30:44.926871Z",
     "shell.execute_reply": "2024-08-05T16:30:44.924705Z"
    },
    "papermill": {
     "duration": 697.202293,
     "end_time": "2024-08-05T16:30:44.933707",
     "exception": false,
     "start_time": "2024-08-05T16:19:07.731414",
     "status": "completed"
    },
    "tags": []
   },
   "outputs": [],
   "source": [
    "# Compute Embeddings in batches\n",
    "for i in range(num_batches):\n",
    "    batch_abstracts = abstracts[i*batch_size : (i+1)*batch_size]\n",
    "    batch_embeddings = sentence_encoder_layer(batch_abstracts)\n",
    "    embeddings.extend(batch_embeddings.numpy())\n",
    "\n",
    "# Embeddings for remaining abstracts\n",
    "remaining_abstracts = abstracts[num_batches*batch_size:]\n",
    "if len(remaining_abstracts) > 0:\n",
    "    remaining_embeddings = sentence_encoder_layer(remaining_abstracts)\n",
    "    embeddings.extend(remaining_embeddings.numpy())\n",
    "    \n",
    "embeddings = np.array(embeddings)\n",
    "y = df.index"
   ]
  },
  {
   "cell_type": "markdown",
   "id": "95234019",
   "metadata": {
    "papermill": {
     "duration": 0.009119,
     "end_time": "2024-08-05T16:30:44.958178",
     "exception": false,
     "start_time": "2024-08-05T16:30:44.949059",
     "status": "completed"
    },
    "tags": []
   },
   "source": [
    "## KNN Classifier"
   ]
  },
  {
   "cell_type": "code",
   "execution_count": 18,
   "id": "43d3dcce",
   "metadata": {
    "execution": {
     "iopub.execute_input": "2024-08-05T16:30:44.980031Z",
     "iopub.status.busy": "2024-08-05T16:30:44.979495Z",
     "iopub.status.idle": "2024-08-05T16:30:45.302299Z",
     "shell.execute_reply": "2024-08-05T16:30:45.301197Z"
    },
    "papermill": {
     "duration": 0.3378,
     "end_time": "2024-08-05T16:30:45.305232",
     "exception": false,
     "start_time": "2024-08-05T16:30:44.967432",
     "status": "completed"
    },
    "tags": []
   },
   "outputs": [
    {
     "data": {
      "text/html": [
       "<style>#sk-container-id-1 {color: black;background-color: white;}#sk-container-id-1 pre{padding: 0;}#sk-container-id-1 div.sk-toggleable {background-color: white;}#sk-container-id-1 label.sk-toggleable__label {cursor: pointer;display: block;width: 100%;margin-bottom: 0;padding: 0.3em;box-sizing: border-box;text-align: center;}#sk-container-id-1 label.sk-toggleable__label-arrow:before {content: \"▸\";float: left;margin-right: 0.25em;color: #696969;}#sk-container-id-1 label.sk-toggleable__label-arrow:hover:before {color: black;}#sk-container-id-1 div.sk-estimator:hover label.sk-toggleable__label-arrow:before {color: black;}#sk-container-id-1 div.sk-toggleable__content {max-height: 0;max-width: 0;overflow: hidden;text-align: left;background-color: #f0f8ff;}#sk-container-id-1 div.sk-toggleable__content pre {margin: 0.2em;color: black;border-radius: 0.25em;background-color: #f0f8ff;}#sk-container-id-1 input.sk-toggleable__control:checked~div.sk-toggleable__content {max-height: 200px;max-width: 100%;overflow: auto;}#sk-container-id-1 input.sk-toggleable__control:checked~label.sk-toggleable__label-arrow:before {content: \"▾\";}#sk-container-id-1 div.sk-estimator input.sk-toggleable__control:checked~label.sk-toggleable__label {background-color: #d4ebff;}#sk-container-id-1 div.sk-label input.sk-toggleable__control:checked~label.sk-toggleable__label {background-color: #d4ebff;}#sk-container-id-1 input.sk-hidden--visually {border: 0;clip: rect(1px 1px 1px 1px);clip: rect(1px, 1px, 1px, 1px);height: 1px;margin: -1px;overflow: hidden;padding: 0;position: absolute;width: 1px;}#sk-container-id-1 div.sk-estimator {font-family: monospace;background-color: #f0f8ff;border: 1px dotted black;border-radius: 0.25em;box-sizing: border-box;margin-bottom: 0.5em;}#sk-container-id-1 div.sk-estimator:hover {background-color: #d4ebff;}#sk-container-id-1 div.sk-parallel-item::after {content: \"\";width: 100%;border-bottom: 1px solid gray;flex-grow: 1;}#sk-container-id-1 div.sk-label:hover label.sk-toggleable__label {background-color: #d4ebff;}#sk-container-id-1 div.sk-serial::before {content: \"\";position: absolute;border-left: 1px solid gray;box-sizing: border-box;top: 0;bottom: 0;left: 50%;z-index: 0;}#sk-container-id-1 div.sk-serial {display: flex;flex-direction: column;align-items: center;background-color: white;padding-right: 0.2em;padding-left: 0.2em;position: relative;}#sk-container-id-1 div.sk-item {position: relative;z-index: 1;}#sk-container-id-1 div.sk-parallel {display: flex;align-items: stretch;justify-content: center;background-color: white;position: relative;}#sk-container-id-1 div.sk-item::before, #sk-container-id-1 div.sk-parallel-item::before {content: \"\";position: absolute;border-left: 1px solid gray;box-sizing: border-box;top: 0;bottom: 0;left: 50%;z-index: -1;}#sk-container-id-1 div.sk-parallel-item {display: flex;flex-direction: column;z-index: 1;position: relative;background-color: white;}#sk-container-id-1 div.sk-parallel-item:first-child::after {align-self: flex-end;width: 50%;}#sk-container-id-1 div.sk-parallel-item:last-child::after {align-self: flex-start;width: 50%;}#sk-container-id-1 div.sk-parallel-item:only-child::after {width: 0;}#sk-container-id-1 div.sk-dashed-wrapped {border: 1px dashed gray;margin: 0 0.4em 0.5em 0.4em;box-sizing: border-box;padding-bottom: 0.4em;background-color: white;}#sk-container-id-1 div.sk-label label {font-family: monospace;font-weight: bold;display: inline-block;line-height: 1.2em;}#sk-container-id-1 div.sk-label-container {text-align: center;}#sk-container-id-1 div.sk-container {/* jupyter's `normalize.less` sets `[hidden] { display: none; }` but bootstrap.min.css set `[hidden] { display: none !important; }` so we also need the `!important` here to be able to override the default hidden behavior on the sphinx rendered scikit-learn.org. See: https://github.com/scikit-learn/scikit-learn/issues/21755 */display: inline-block !important;position: relative;}#sk-container-id-1 div.sk-text-repr-fallback {display: none;}</style><div id=\"sk-container-id-1\" class=\"sk-top-container\"><div class=\"sk-text-repr-fallback\"><pre>KNeighborsClassifier(n_neighbors=6)</pre><b>In a Jupyter environment, please rerun this cell to show the HTML representation or trust the notebook. <br />On GitHub, the HTML representation is unable to render, please try loading this page with nbviewer.org.</b></div><div class=\"sk-container\" hidden><div class=\"sk-item\"><div class=\"sk-estimator sk-toggleable\"><input class=\"sk-toggleable__control sk-hidden--visually\" id=\"sk-estimator-id-1\" type=\"checkbox\" checked><label for=\"sk-estimator-id-1\" class=\"sk-toggleable__label sk-toggleable__label-arrow\">KNeighborsClassifier</label><div class=\"sk-toggleable__content\"><pre>KNeighborsClassifier(n_neighbors=6)</pre></div></div></div></div></div>"
      ],
      "text/plain": [
       "KNeighborsClassifier(n_neighbors=6)"
      ]
     },
     "execution_count": 18,
     "metadata": {},
     "output_type": "execute_result"
    }
   ],
   "source": [
    "nn = KNeighborsClassifier(n_neighbors=6)\n",
    "nn.fit(embeddings,y)"
   ]
  },
  {
   "cell_type": "markdown",
   "id": "f69355d2",
   "metadata": {
    "papermill": {
     "duration": 0.009606,
     "end_time": "2024-08-05T16:30:45.325466",
     "exception": false,
     "start_time": "2024-08-05T16:30:45.315860",
     "status": "completed"
    },
    "tags": []
   },
   "source": [
    "# Visualize Results"
   ]
  },
  {
   "cell_type": "code",
   "execution_count": 19,
   "id": "44a644b1",
   "metadata": {
    "execution": {
     "iopub.execute_input": "2024-08-05T16:30:45.348945Z",
     "iopub.status.busy": "2024-08-05T16:30:45.347768Z",
     "iopub.status.idle": "2024-08-05T16:30:48.399550Z",
     "shell.execute_reply": "2024-08-05T16:30:48.398718Z"
    },
    "papermill": {
     "duration": 3.066029,
     "end_time": "2024-08-05T16:30:48.401787",
     "exception": false,
     "start_time": "2024-08-05T16:30:45.335758",
     "status": "completed"
    },
    "tags": []
   },
   "outputs": [
    {
     "name": "stdout",
     "output_type": "stream",
     "text": [
      "Sample:\n",
      "Time Window of Head Impact Kinematics Measurement for Calculation of\n",
      "  Brain Strain and Strain Rate in American Football\n",
      "\n",
      "Recommendation 1:\n",
      "Deep Learning Head Model for Real-time Estimation of Entire Brain\n",
      "  Deformation in Concussion\n",
      "\n",
      "Recommendation 2:\n",
      "Data-driven decomposition of brain dynamics with principal component\n",
      "  analysis in different types of head impacts\n",
      "\n",
      "Recommendation 3:\n",
      "Low-rank representation of head impact kinematics: A data-driven\n",
      "  emulator\n",
      "\n",
      "Recommendation 4:\n",
      "A comparison of sports-related head accelerations with and without\n",
      "  direct head impacts\n",
      "\n",
      "Recommendation 5:\n",
      "Denoising instrumented mouthguard measurements of head impact kinematics\n",
      "  with a convolutional neural network\n",
      "\n",
      "===============\n",
      "\n",
      "Sample:\n",
      "From Requirements to Autonomous Flight: An Overview of the Monitoring\n",
      "  ICAROUS Project\n",
      "\n",
      "Recommendation 1:\n",
      "Monitoring ROS2: from Requirements to Autonomous Robots\n",
      "\n",
      "Recommendation 2:\n",
      "Automated Formation Control Synthesis from Temporal Logic Specifications\n",
      "\n",
      "Recommendation 3:\n",
      "SkiNet, A Petri Net Generation Tool for the Verification of\n",
      "  Skillset-based Autonomous Systems\n",
      "\n",
      "Recommendation 4:\n",
      "Monitoring Unmanned Aircraft: Specification, Integration, and\n",
      "  Lessons-learned\n",
      "\n",
      "Recommendation 5:\n",
      "A Compositional Approach to Verifying Modular Robotic Systems\n",
      "\n",
      "===============\n",
      "\n",
      "Sample:\n",
      "DualCoOp++: Fast and Effective Adaptation to Multi-Label Recognition\n",
      "  with Limited Annotations\n",
      "\n",
      "Recommendation 1:\n",
      "DualCoOp: Fast Adaptation to Multi-Label Recognition with Limited\n",
      "  Annotations\n",
      "\n",
      "Recommendation 2:\n",
      "RAR: Retrieving And Ranking Augmented MLLMs for Visual Recognition\n",
      "\n",
      "Recommendation 3:\n",
      "High-Discriminative Attribute Feature Learning for Generalized Zero-Shot\n",
      "  Learning\n",
      "\n",
      "Recommendation 4:\n",
      "Dense Contrastive Visual-Linguistic Pretraining\n",
      "\n",
      "Recommendation 5:\n",
      "Open-Vocabulary Animal Keypoint Detection with Semantic-feature Matching\n",
      "\n",
      "===============\n",
      "\n",
      "Sample:\n",
      "Two-qubit controlled-PHASE Rydberg blockade gate protocol for neutral\n",
      "  atoms via off-resonant modulated driving within a single pulse\n",
      "\n",
      "Recommendation 1:\n",
      "Unimon qubit\n",
      "\n",
      "Recommendation 2:\n",
      "Systematic error tolerant multiqubit holonomic entangling gates\n",
      "\n",
      "Recommendation 3:\n",
      "Protocol for generation of high-dimensional entanglement from an array\n",
      "  of non-interacting photon emitters\n",
      "\n",
      "Recommendation 4:\n",
      "High fidelity entanglement of neutral atoms via a Rydberg-mediated\n",
      "  single-modulated-pulse controlled-PHASE gate\n",
      "\n",
      "Recommendation 5:\n",
      "Proposal for practical Rydberg quantum gates using a native two-photon\n",
      "  excitation\n",
      "\n",
      "===============\n",
      "\n",
      "Sample:\n",
      "Privacy Policies Across the Ages: Content and Readability of Privacy\n",
      "  Policies 1996--2021\n",
      "\n",
      "Recommendation 1:\n",
      "OPPO: An Ontology for Describing Fine-Grained Data Practices in Privacy\n",
      "  Policies of Online Social Networks\n",
      "\n",
      "Recommendation 2:\n",
      "Automated Detection of GDPR Disclosure Requirements in Privacy Policies\n",
      "  using Deep Active Learning\n",
      "\n",
      "Recommendation 3:\n",
      "Detecting Compliance of Privacy Policies with Data Protection Laws\n",
      "\n",
      "Recommendation 4:\n",
      "Privacy Policies over Time: Curation and Analysis of a Million-Document\n",
      "  Dataset\n",
      "\n",
      "Recommendation 5:\n",
      "A BERT-based Empirical Study of Privacy Policies' Compliance with GDPR\n",
      "\n",
      "===============\n",
      "\n"
     ]
    }
   ],
   "source": [
    "for _ in range(5):\n",
    "    idx = random.randint(i, len(y))\n",
    "    sample = df[\"title\"][idx]\n",
    "    dist, index = nn.kneighbors(X=embeddings[idx,:].reshape(1,-1))\n",
    "    print(f\"Sample:\\n{sample}\\n\")\n",
    "    for i in range(1,6):\n",
    "        print(f\"Recommendation {i}:\\n{df['title'][index[0][i]]}\\n\")\n",
    "    print(\"===============\\n\")"
   ]
  },
  {
   "cell_type": "markdown",
   "id": "05f7e641",
   "metadata": {
    "papermill": {
     "duration": 0.009653,
     "end_time": "2024-08-05T16:30:48.421476",
     "exception": false,
     "start_time": "2024-08-05T16:30:48.411823",
     "status": "completed"
    },
    "tags": []
   },
   "source": [
    "<div class=\"alert alert-success\" role=\"alert\">\n",
    "    <h1>Conclusion</h1>\n",
    "    <p>In conclusion, the Universal Sentence Encoder (USE) offers a powerful tool for finding similar research papers based on their abstracts. By encoding research abstracts into fixed-length numerical representations, the USE captures the semantic meaning and contextual information of the texts. This enables the computation of semantic similarity between abstracts, facilitating the identification of related research papers. The USE's ability to capture nuanced semantic relationships and its robustness in handling different language patterns make it particularly valuable for this task. By leveraging the USE, researchers can efficiently discover relevant papers, uncover hidden connections, and gain deeper insights into the existing body of knowledge. This facilitates literature review processes, aids in identifying research gaps, and promotes further advancements in various fields of study, overall, performing as powerful research tool.</p>\n",
    "</div>"
   ]
  }
 ],
 "metadata": {
  "kaggle": {
   "accelerator": "none",
   "dataSources": [
    {
     "datasetId": 612177,
     "sourceId": 7603313,
     "sourceType": "datasetVersion"
    }
   ],
   "dockerImageVersionId": 30474,
   "isGpuEnabled": false,
   "isInternetEnabled": true,
   "language": "python",
   "sourceType": "notebook"
  },
  "kernelspec": {
   "display_name": "Python 3",
   "language": "python",
   "name": "python3"
  },
  "language_info": {
   "codemirror_mode": {
    "name": "ipython",
    "version": 3
   },
   "file_extension": ".py",
   "mimetype": "text/x-python",
   "name": "python",
   "nbconvert_exporter": "python",
   "pygments_lexer": "ipython3",
   "version": "3.10.10"
  },
  "papermill": {
   "default_parameters": {},
   "duration": 869.141031,
   "end_time": "2024-08-05T16:30:51.457204",
   "environment_variables": {},
   "exception": null,
   "input_path": "__notebook__.ipynb",
   "output_path": "__notebook__.ipynb",
   "parameters": {},
   "start_time": "2024-08-05T16:16:22.316173",
   "version": "2.4.0"
  }
 },
 "nbformat": 4,
 "nbformat_minor": 5
}
